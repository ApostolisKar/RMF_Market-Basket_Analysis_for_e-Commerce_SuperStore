{
 "cells": [
  {
   "cell_type": "code",
   "execution_count": null,
   "id": "39d6782d",
   "metadata": {},
   "outputs": [],
   "source": [
    "import pandas as pd\n",
    "import numpy as np\n",
    "import json\n",
    "from datetime import datetime, timedelta\n",
    "import matplotlib.pyplot as plt\n"
   ]
  },
  {
   "cell_type": "code",
   "execution_count": null,
   "id": "27bc517f",
   "metadata": {},
   "outputs": [],
   "source": [
    "fact_table = pd.read_csv('fact_table.csv')"
   ]
  },
  {
   "cell_type": "code",
   "execution_count": null,
   "id": "74c8d92c",
   "metadata": {
    "scrolled": true
   },
   "outputs": [],
   "source": [
    "fact_table"
   ]
  },
  {
   "cell_type": "code",
   "execution_count": null,
   "id": "a8bee1bc",
   "metadata": {},
   "outputs": [],
   "source": [
    "item_dim = pd.read_csv('item_dim.csv',  encoding='latin-1')"
   ]
  },
  {
   "cell_type": "code",
   "execution_count": null,
   "id": "74b8b121",
   "metadata": {},
   "outputs": [],
   "source": [
    "item_dim"
   ]
  },
  {
   "cell_type": "code",
   "execution_count": null,
   "id": "45a46c45",
   "metadata": {},
   "outputs": [],
   "source": [
    "customer_dim = pd.read_csv('customer_dim.csv', encoding='latin-1')"
   ]
  },
  {
   "cell_type": "code",
   "execution_count": null,
   "id": "701af857",
   "metadata": {},
   "outputs": [],
   "source": [
    "store_dim = pd.read_csv('store_dim.csv', encoding='latin-1')"
   ]
  },
  {
   "cell_type": "code",
   "execution_count": null,
   "id": "217e69a2",
   "metadata": {},
   "outputs": [],
   "source": [
    "time_dim = pd.read_csv('time_dim.csv', encoding='latin-1')"
   ]
  },
  {
   "cell_type": "code",
   "execution_count": null,
   "id": "352c1b68",
   "metadata": {},
   "outputs": [],
   "source": [
    "Trans_dim = pd.read_csv('Trans_dim.csv', encoding='latin-1')"
   ]
  },
  {
   "cell_type": "code",
   "execution_count": null,
   "id": "49301743",
   "metadata": {},
   "outputs": [],
   "source": [
    "df = pd.merge(fact_table, item_dim, how='inner')"
   ]
  },
  {
   "cell_type": "code",
   "execution_count": null,
   "id": "16524ecb",
   "metadata": {},
   "outputs": [],
   "source": [
    "df = pd.merge(df, customer_dim, how='inner')"
   ]
  },
  {
   "cell_type": "code",
   "execution_count": null,
   "id": "f6db7961",
   "metadata": {},
   "outputs": [],
   "source": [
    "df = pd.merge(df, store_dim, how='inner')"
   ]
  },
  {
   "cell_type": "code",
   "execution_count": null,
   "id": "726d3d1e",
   "metadata": {},
   "outputs": [],
   "source": [
    "df = pd.merge(df, time_dim, how='inner')"
   ]
  },
  {
   "cell_type": "code",
   "execution_count": null,
   "id": "c6ee8314",
   "metadata": {},
   "outputs": [],
   "source": [
    "df = pd.merge(df, Trans_dim, how='inner')"
   ]
  },
  {
   "cell_type": "code",
   "execution_count": null,
   "id": "b217e25f",
   "metadata": {},
   "outputs": [],
   "source": [
    "df.info()"
   ]
  }
 ],
 "metadata": {
  "kernelspec": {
   "display_name": "Python 3 (ipykernel)",
   "language": "python",
   "name": "python3"
  },
  "language_info": {
   "codemirror_mode": {
    "name": "ipython",
    "version": 3
   },
   "file_extension": ".py",
   "mimetype": "text/x-python",
   "name": "python",
   "nbconvert_exporter": "python",
   "pygments_lexer": "ipython3",
   "version": "3.9.17"
  }
 },
 "nbformat": 4,
 "nbformat_minor": 5
}
