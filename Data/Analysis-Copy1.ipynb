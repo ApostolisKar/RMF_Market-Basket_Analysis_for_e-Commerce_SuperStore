{
 "cells": [
  {
   "cell_type": "code",
   "execution_count": 1,
   "id": "7d234763",
   "metadata": {},
   "outputs": [],
   "source": [
    "import pandas as pd\n",
    "import numpy as np\n",
    "import json\n",
    "from datetime import datetime, timedelta\n",
    "import matplotlib.pyplot as plt\n",
    "pd.set_option('display.max_columns', None)\n",
    "import seaborn as sns\n",
    "from fim import arules"
   ]
  },
  {
   "cell_type": "code",
   "execution_count": 2,
   "id": "f445a2b0",
   "metadata": {},
   "outputs": [],
   "source": [
    "# load the main file\n",
    "fact_table = pd.read_csv('fact_table.csv')"
   ]
  },
  {
   "cell_type": "markdown",
   "id": "3d1a10ed",
   "metadata": {},
   "source": [
    "# Lets Explore and Understand the Data\n"
   ]
  },
  {
   "cell_type": "code",
   "execution_count": 3,
   "id": "651cdbcb",
   "metadata": {},
   "outputs": [],
   "source": [
    "# Sales Trends Over Time + line \n",
    "# product items\n",
    "# top customers\n",
    "# sales by location\n",
    "# Payment Method Preferences\n",
    "# Time of Day Analysis"
   ]
  },
  {
   "cell_type": "code",
   "execution_count": 4,
   "id": "b784e242",
   "metadata": {
    "scrolled": true
   },
   "outputs": [
    {
     "data": {
      "text/html": [
       "<div>\n",
       "<style scoped>\n",
       "    .dataframe tbody tr th:only-of-type {\n",
       "        vertical-align: middle;\n",
       "    }\n",
       "\n",
       "    .dataframe tbody tr th {\n",
       "        vertical-align: top;\n",
       "    }\n",
       "\n",
       "    .dataframe thead th {\n",
       "        text-align: right;\n",
       "    }\n",
       "</style>\n",
       "<table border=\"1\" class=\"dataframe\">\n",
       "  <thead>\n",
       "    <tr style=\"text-align: right;\">\n",
       "      <th></th>\n",
       "      <th>payment_key</th>\n",
       "      <th>coustomer_key</th>\n",
       "      <th>time_key</th>\n",
       "      <th>item_key</th>\n",
       "      <th>store_key</th>\n",
       "      <th>quantity</th>\n",
       "      <th>unit</th>\n",
       "      <th>unit_price</th>\n",
       "      <th>total_price</th>\n",
       "    </tr>\n",
       "  </thead>\n",
       "  <tbody>\n",
       "    <tr>\n",
       "      <th>0</th>\n",
       "      <td>P026</td>\n",
       "      <td>C004510</td>\n",
       "      <td>T049189</td>\n",
       "      <td>I00177</td>\n",
       "      <td>S00307</td>\n",
       "      <td>1</td>\n",
       "      <td>ct</td>\n",
       "      <td>35.0</td>\n",
       "      <td>35.0</td>\n",
       "    </tr>\n",
       "    <tr>\n",
       "      <th>1</th>\n",
       "      <td>P022</td>\n",
       "      <td>C008967</td>\n",
       "      <td>T041209</td>\n",
       "      <td>I00248</td>\n",
       "      <td>S00595</td>\n",
       "      <td>1</td>\n",
       "      <td>rolls</td>\n",
       "      <td>26.0</td>\n",
       "      <td>26.0</td>\n",
       "    </tr>\n",
       "    <tr>\n",
       "      <th>2</th>\n",
       "      <td>P030</td>\n",
       "      <td>C007261</td>\n",
       "      <td>T03633</td>\n",
       "      <td>I00195</td>\n",
       "      <td>S00496</td>\n",
       "      <td>8</td>\n",
       "      <td>ct</td>\n",
       "      <td>12.5</td>\n",
       "      <td>100.0</td>\n",
       "    </tr>\n",
       "    <tr>\n",
       "      <th>3</th>\n",
       "      <td>P032</td>\n",
       "      <td>C007048</td>\n",
       "      <td>T084631</td>\n",
       "      <td>I00131</td>\n",
       "      <td>S0086</td>\n",
       "      <td>8</td>\n",
       "      <td>ct</td>\n",
       "      <td>14.0</td>\n",
       "      <td>112.0</td>\n",
       "    </tr>\n",
       "    <tr>\n",
       "      <th>4</th>\n",
       "      <td>P014</td>\n",
       "      <td>C006430</td>\n",
       "      <td>T071276</td>\n",
       "      <td>I00050</td>\n",
       "      <td>S00488</td>\n",
       "      <td>8</td>\n",
       "      <td>cans</td>\n",
       "      <td>8.0</td>\n",
       "      <td>64.0</td>\n",
       "    </tr>\n",
       "    <tr>\n",
       "      <th>...</th>\n",
       "      <td>...</td>\n",
       "      <td>...</td>\n",
       "      <td>...</td>\n",
       "      <td>...</td>\n",
       "      <td>...</td>\n",
       "      <td>...</td>\n",
       "      <td>...</td>\n",
       "      <td>...</td>\n",
       "      <td>...</td>\n",
       "    </tr>\n",
       "    <tr>\n",
       "      <th>999995</th>\n",
       "      <td>P010</td>\n",
       "      <td>C003726</td>\n",
       "      <td>T09247</td>\n",
       "      <td>I00063</td>\n",
       "      <td>S00502</td>\n",
       "      <td>5</td>\n",
       "      <td>cans</td>\n",
       "      <td>40.0</td>\n",
       "      <td>200.0</td>\n",
       "    </tr>\n",
       "    <tr>\n",
       "      <th>999996</th>\n",
       "      <td>P021</td>\n",
       "      <td>C002581</td>\n",
       "      <td>T023483</td>\n",
       "      <td>I00252</td>\n",
       "      <td>S00225</td>\n",
       "      <td>1</td>\n",
       "      <td>ct</td>\n",
       "      <td>11.0</td>\n",
       "      <td>11.0</td>\n",
       "    </tr>\n",
       "    <tr>\n",
       "      <th>999997</th>\n",
       "      <td>P035</td>\n",
       "      <td>C006133</td>\n",
       "      <td>T039372</td>\n",
       "      <td>I00119</td>\n",
       "      <td>S00555</td>\n",
       "      <td>7</td>\n",
       "      <td>ct</td>\n",
       "      <td>53.0</td>\n",
       "      <td>371.0</td>\n",
       "    </tr>\n",
       "    <tr>\n",
       "      <th>999998</th>\n",
       "      <td>P031</td>\n",
       "      <td>C008735</td>\n",
       "      <td>T097975</td>\n",
       "      <td>I00257</td>\n",
       "      <td>S00440</td>\n",
       "      <td>2</td>\n",
       "      <td>ct</td>\n",
       "      <td>21.0</td>\n",
       "      <td>42.0</td>\n",
       "    </tr>\n",
       "    <tr>\n",
       "      <th>999999</th>\n",
       "      <td>P032</td>\n",
       "      <td>C004067</td>\n",
       "      <td>T018028</td>\n",
       "      <td>I00044</td>\n",
       "      <td>S00326</td>\n",
       "      <td>10</td>\n",
       "      <td>cans</td>\n",
       "      <td>8.0</td>\n",
       "      <td>80.0</td>\n",
       "    </tr>\n",
       "  </tbody>\n",
       "</table>\n",
       "<p>1000000 rows × 9 columns</p>\n",
       "</div>"
      ],
      "text/plain": [
       "       payment_key coustomer_key time_key item_key store_key  quantity   unit  \\\n",
       "0             P026       C004510  T049189   I00177    S00307         1     ct   \n",
       "1             P022       C008967  T041209   I00248    S00595         1  rolls   \n",
       "2             P030       C007261   T03633   I00195    S00496         8     ct   \n",
       "3             P032       C007048  T084631   I00131     S0086         8     ct   \n",
       "4             P014       C006430  T071276   I00050    S00488         8   cans   \n",
       "...            ...           ...      ...      ...       ...       ...    ...   \n",
       "999995        P010       C003726   T09247   I00063    S00502         5   cans   \n",
       "999996        P021       C002581  T023483   I00252    S00225         1     ct   \n",
       "999997        P035       C006133  T039372   I00119    S00555         7     ct   \n",
       "999998        P031       C008735  T097975   I00257    S00440         2     ct   \n",
       "999999        P032       C004067  T018028   I00044    S00326        10   cans   \n",
       "\n",
       "        unit_price  total_price  \n",
       "0             35.0         35.0  \n",
       "1             26.0         26.0  \n",
       "2             12.5        100.0  \n",
       "3             14.0        112.0  \n",
       "4              8.0         64.0  \n",
       "...            ...          ...  \n",
       "999995        40.0        200.0  \n",
       "999996        11.0         11.0  \n",
       "999997        53.0        371.0  \n",
       "999998        21.0         42.0  \n",
       "999999         8.0         80.0  \n",
       "\n",
       "[1000000 rows x 9 columns]"
      ]
     },
     "execution_count": 4,
     "metadata": {},
     "output_type": "execute_result"
    }
   ],
   "source": [
    "fact_table"
   ]
  },
  {
   "cell_type": "code",
   "execution_count": 5,
   "id": "efa60a4b",
   "metadata": {},
   "outputs": [],
   "source": [
    "#load the rest of the files "
   ]
  },
  {
   "cell_type": "code",
   "execution_count": 6,
   "id": "fbdbd993",
   "metadata": {},
   "outputs": [],
   "source": [
    "item = pd.read_csv('item_dim.csv',  encoding='latin-1')"
   ]
  },
  {
   "cell_type": "code",
   "execution_count": 7,
   "id": "26da7054",
   "metadata": {},
   "outputs": [],
   "source": [
    "customer = pd.read_csv('customer_dim.csv', encoding='latin-1')"
   ]
  },
  {
   "cell_type": "code",
   "execution_count": 8,
   "id": "65dd746d",
   "metadata": {},
   "outputs": [],
   "source": [
    "store = pd.read_csv('store_dim.csv', encoding='latin-1')"
   ]
  },
  {
   "cell_type": "code",
   "execution_count": 9,
   "id": "08a4cf74",
   "metadata": {},
   "outputs": [],
   "source": [
    "time_dim = pd.read_csv('time_dim.csv', encoding='latin-1')"
   ]
  },
  {
   "cell_type": "code",
   "execution_count": 10,
   "id": "a33f559c",
   "metadata": {},
   "outputs": [],
   "source": [
    "trans = pd.read_csv('Trans_dim.csv', encoding='latin-1')"
   ]
  },
  {
   "cell_type": "code",
   "execution_count": 11,
   "id": "1508ed7b",
   "metadata": {},
   "outputs": [],
   "source": [
    "# and merge all tables\n",
    "df = pd.merge(fact_table, time_dim, how='inner')"
   ]
  },
  {
   "cell_type": "code",
   "execution_count": 12,
   "id": "89c89a64",
   "metadata": {},
   "outputs": [],
   "source": [
    "df = pd.merge(df, trans, how='inner')"
   ]
  },
  {
   "cell_type": "code",
   "execution_count": 13,
   "id": "c672f719",
   "metadata": {},
   "outputs": [],
   "source": [
    "df = pd.merge(df, store, how='inner')"
   ]
  },
  {
   "cell_type": "code",
   "execution_count": 14,
   "id": "520ba909",
   "metadata": {},
   "outputs": [],
   "source": [
    "df = pd.merge(df, item, how='inner')"
   ]
  },
  {
   "cell_type": "code",
   "execution_count": 15,
   "id": "d8ae4996",
   "metadata": {},
   "outputs": [
    {
     "name": "stdout",
     "output_type": "stream",
     "text": [
      "<class 'pandas.core.frame.DataFrame'>\n",
      "Int64Index: 1000000 entries, 0 to 999999\n",
      "Data columns (total 28 columns):\n",
      " #   Column         Non-Null Count    Dtype  \n",
      "---  ------         --------------    -----  \n",
      " 0   payment_key    1000000 non-null  object \n",
      " 1   coustomer_key  1000000 non-null  object \n",
      " 2   time_key       1000000 non-null  object \n",
      " 3   item_key       1000000 non-null  object \n",
      " 4   store_key      1000000 non-null  object \n",
      " 5   quantity       1000000 non-null  int64  \n",
      " 6   unit           996277 non-null   object \n",
      " 7   unit_price     1000000 non-null  float64\n",
      " 8   total_price    1000000 non-null  float64\n",
      " 9   date           1000000 non-null  object \n",
      " 10  hour           1000000 non-null  int64  \n",
      " 11  day            1000000 non-null  int64  \n",
      " 12  week           1000000 non-null  object \n",
      " 13  month          1000000 non-null  int64  \n",
      " 14  quarter        1000000 non-null  object \n",
      " 15  year           1000000 non-null  int64  \n",
      " 16  trans_type     1000000 non-null  object \n",
      " 17  bank_name      1000000 non-null  object \n",
      " 18  division       1000000 non-null  object \n",
      " 19  district       1000000 non-null  object \n",
      " 20  upazila        1000000 non-null  object \n",
      " 21  item_name      1000000 non-null  object \n",
      " 22  desc           1000000 non-null  object \n",
      " 23  man_country    1000000 non-null  object \n",
      " 24  supplier       1000000 non-null  object \n",
      " 25  name           997010 non-null   object \n",
      " 26  contact_no     1000000 non-null  int64  \n",
      " 27  nid            1000000 non-null  int64  \n",
      "dtypes: float64(2), int64(7), object(19)\n",
      "memory usage: 221.3+ MB\n"
     ]
    }
   ],
   "source": [
    "df = pd.merge(df, customer, how='inner')\n",
    "df.info()"
   ]
  },
  {
   "cell_type": "code",
   "execution_count": 16,
   "id": "8b44aab1",
   "metadata": {},
   "outputs": [
    {
     "data": {
      "text/html": [
       "<div>\n",
       "<style scoped>\n",
       "    .dataframe tbody tr th:only-of-type {\n",
       "        vertical-align: middle;\n",
       "    }\n",
       "\n",
       "    .dataframe tbody tr th {\n",
       "        vertical-align: top;\n",
       "    }\n",
       "\n",
       "    .dataframe thead th {\n",
       "        text-align: right;\n",
       "    }\n",
       "</style>\n",
       "<table border=\"1\" class=\"dataframe\">\n",
       "  <thead>\n",
       "    <tr style=\"text-align: right;\">\n",
       "      <th></th>\n",
       "      <th>payment_key</th>\n",
       "      <th>coustomer_key</th>\n",
       "      <th>time_key</th>\n",
       "      <th>item_key</th>\n",
       "      <th>store_key</th>\n",
       "      <th>quantity</th>\n",
       "      <th>unit</th>\n",
       "      <th>unit_price</th>\n",
       "      <th>total_price</th>\n",
       "      <th>date</th>\n",
       "      <th>hour</th>\n",
       "      <th>day</th>\n",
       "      <th>week</th>\n",
       "      <th>month</th>\n",
       "      <th>quarter</th>\n",
       "      <th>year</th>\n",
       "      <th>trans_type</th>\n",
       "      <th>bank_name</th>\n",
       "      <th>division</th>\n",
       "      <th>district</th>\n",
       "      <th>upazila</th>\n",
       "      <th>item_name</th>\n",
       "      <th>desc</th>\n",
       "      <th>man_country</th>\n",
       "      <th>supplier</th>\n",
       "      <th>name</th>\n",
       "      <th>contact_no</th>\n",
       "      <th>nid</th>\n",
       "    </tr>\n",
       "  </thead>\n",
       "  <tbody>\n",
       "    <tr>\n",
       "      <th>0</th>\n",
       "      <td>P026</td>\n",
       "      <td>C004510</td>\n",
       "      <td>T049189</td>\n",
       "      <td>I00177</td>\n",
       "      <td>S00307</td>\n",
       "      <td>1</td>\n",
       "      <td>ct</td>\n",
       "      <td>35.0</td>\n",
       "      <td>35.0</td>\n",
       "      <td>26-04-2016 17:13</td>\n",
       "      <td>17</td>\n",
       "      <td>26</td>\n",
       "      <td>4th Week</td>\n",
       "      <td>4</td>\n",
       "      <td>Q2</td>\n",
       "      <td>2016</td>\n",
       "      <td>card</td>\n",
       "      <td>Premier Bank Limited</td>\n",
       "      <td>DHAKA</td>\n",
       "      <td>JAMALPUR</td>\n",
       "      <td>ISLAMPUR</td>\n",
       "      <td>M&amp;M Peanut Candy 1.7 oz</td>\n",
       "      <td>Food - Chocolate</td>\n",
       "      <td>Netherlands</td>\n",
       "      <td>Bolsius Boxmeer</td>\n",
       "      <td>priya</td>\n",
       "      <td>8801529462805</td>\n",
       "      <td>4543429591184</td>\n",
       "    </tr>\n",
       "    <tr>\n",
       "      <th>1</th>\n",
       "      <td>P001</td>\n",
       "      <td>C004510</td>\n",
       "      <td>T082988</td>\n",
       "      <td>I00062</td>\n",
       "      <td>S00428</td>\n",
       "      <td>11</td>\n",
       "      <td>cans</td>\n",
       "      <td>37.0</td>\n",
       "      <td>407.0</td>\n",
       "      <td>11-05-2018 07:18</td>\n",
       "      <td>7</td>\n",
       "      <td>11</td>\n",
       "      <td>2nd Week</td>\n",
       "      <td>5</td>\n",
       "      <td>Q2</td>\n",
       "      <td>2018</td>\n",
       "      <td>cash</td>\n",
       "      <td>None</td>\n",
       "      <td>CHITTAGONG</td>\n",
       "      <td>CHITTAGONG</td>\n",
       "      <td>ANOWARA</td>\n",
       "      <td>Red Bull 16oz</td>\n",
       "      <td>Beverage - Energy/Protein</td>\n",
       "      <td>Bangladesh</td>\n",
       "      <td>DENIMACH LTD</td>\n",
       "      <td>priya</td>\n",
       "      <td>8801529462805</td>\n",
       "      <td>4543429591184</td>\n",
       "    </tr>\n",
       "    <tr>\n",
       "      <th>2</th>\n",
       "      <td>P018</td>\n",
       "      <td>C004510</td>\n",
       "      <td>T074754</td>\n",
       "      <td>I00196</td>\n",
       "      <td>S00378</td>\n",
       "      <td>8</td>\n",
       "      <td>ct</td>\n",
       "      <td>16.0</td>\n",
       "      <td>128.0</td>\n",
       "      <td>29-11-2015 10:19</td>\n",
       "      <td>10</td>\n",
       "      <td>29</td>\n",
       "      <td>4th Week</td>\n",
       "      <td>11</td>\n",
       "      <td>Q4</td>\n",
       "      <td>2015</td>\n",
       "      <td>card</td>\n",
       "      <td>Mutual Trust Bank Limited</td>\n",
       "      <td>DHAKA</td>\n",
       "      <td>RAJBARI</td>\n",
       "      <td>KALUKHALI</td>\n",
       "      <td>Fiber One 90 Calorie Fudge Brownies</td>\n",
       "      <td>Food - Healthy</td>\n",
       "      <td>poland</td>\n",
       "      <td>CHROMADURLIN S.A.S</td>\n",
       "      <td>priya</td>\n",
       "      <td>8801529462805</td>\n",
       "      <td>4543429591184</td>\n",
       "    </tr>\n",
       "    <tr>\n",
       "      <th>3</th>\n",
       "      <td>P011</td>\n",
       "      <td>C004510</td>\n",
       "      <td>T06276</td>\n",
       "      <td>I00223</td>\n",
       "      <td>S00367</td>\n",
       "      <td>8</td>\n",
       "      <td>ct</td>\n",
       "      <td>13.5</td>\n",
       "      <td>108.0</td>\n",
       "      <td>11-10-2016 23:06</td>\n",
       "      <td>23</td>\n",
       "      <td>11</td>\n",
       "      <td>2nd Week</td>\n",
       "      <td>10</td>\n",
       "      <td>Q4</td>\n",
       "      <td>2016</td>\n",
       "      <td>card</td>\n",
       "      <td>Eastern Bank Limited</td>\n",
       "      <td>DHAKA</td>\n",
       "      <td>NETRAKONA</td>\n",
       "      <td>BARHATTA</td>\n",
       "      <td>Lance Variety Cracker Packs</td>\n",
       "      <td>Food - Snacks</td>\n",
       "      <td>Bangladesh</td>\n",
       "      <td>DENIMACH LTD</td>\n",
       "      <td>priya</td>\n",
       "      <td>8801529462805</td>\n",
       "      <td>4543429591184</td>\n",
       "    </tr>\n",
       "    <tr>\n",
       "      <th>4</th>\n",
       "      <td>P034</td>\n",
       "      <td>C004510</td>\n",
       "      <td>T08402</td>\n",
       "      <td>I00229</td>\n",
       "      <td>S00535</td>\n",
       "      <td>9</td>\n",
       "      <td>ct</td>\n",
       "      <td>13.0</td>\n",
       "      <td>117.0</td>\n",
       "      <td>17-10-2017 23:17</td>\n",
       "      <td>23</td>\n",
       "      <td>17</td>\n",
       "      <td>3rd Week</td>\n",
       "      <td>10</td>\n",
       "      <td>Q4</td>\n",
       "      <td>2017</td>\n",
       "      <td>card</td>\n",
       "      <td>United Commercial Bank Ltd</td>\n",
       "      <td>BARISAL</td>\n",
       "      <td>BHOLA</td>\n",
       "      <td>LALMOHAN</td>\n",
       "      <td>Kellogg's Cereals Assortment Pack</td>\n",
       "      <td>Food - Sweets</td>\n",
       "      <td>Germany</td>\n",
       "      <td>Friedola 1888 GmbH</td>\n",
       "      <td>priya</td>\n",
       "      <td>8801529462805</td>\n",
       "      <td>4543429591184</td>\n",
       "    </tr>\n",
       "  </tbody>\n",
       "</table>\n",
       "</div>"
      ],
      "text/plain": [
       "  payment_key coustomer_key time_key item_key store_key  quantity  unit  \\\n",
       "0        P026       C004510  T049189   I00177    S00307         1    ct   \n",
       "1        P001       C004510  T082988   I00062    S00428        11  cans   \n",
       "2        P018       C004510  T074754   I00196    S00378         8    ct   \n",
       "3        P011       C004510   T06276   I00223    S00367         8    ct   \n",
       "4        P034       C004510   T08402   I00229    S00535         9    ct   \n",
       "\n",
       "   unit_price  total_price              date  hour  day      week  month  \\\n",
       "0        35.0         35.0  26-04-2016 17:13    17   26  4th Week      4   \n",
       "1        37.0        407.0  11-05-2018 07:18     7   11  2nd Week      5   \n",
       "2        16.0        128.0  29-11-2015 10:19    10   29  4th Week     11   \n",
       "3        13.5        108.0  11-10-2016 23:06    23   11  2nd Week     10   \n",
       "4        13.0        117.0  17-10-2017 23:17    23   17  3rd Week     10   \n",
       "\n",
       "  quarter  year trans_type                   bank_name    division  \\\n",
       "0      Q2  2016       card        Premier Bank Limited       DHAKA   \n",
       "1      Q2  2018       cash                        None  CHITTAGONG   \n",
       "2      Q4  2015       card   Mutual Trust Bank Limited       DHAKA   \n",
       "3      Q4  2016       card        Eastern Bank Limited       DHAKA   \n",
       "4      Q4  2017       card  United Commercial Bank Ltd     BARISAL   \n",
       "\n",
       "     district    upazila                            item_name  \\\n",
       "0    JAMALPUR   ISLAMPUR              M&M Peanut Candy 1.7 oz   \n",
       "1  CHITTAGONG    ANOWARA                        Red Bull 16oz   \n",
       "2     RAJBARI  KALUKHALI  Fiber One 90 Calorie Fudge Brownies   \n",
       "3   NETRAKONA   BARHATTA         Lance Variety Cracker Packs    \n",
       "4       BHOLA   LALMOHAN   Kellogg's Cereals Assortment Pack    \n",
       "\n",
       "                        desc  man_country            supplier   name  \\\n",
       "0           Food - Chocolate  Netherlands     Bolsius Boxmeer  priya   \n",
       "1  Beverage - Energy/Protein   Bangladesh        DENIMACH LTD  priya   \n",
       "2             Food - Healthy       poland  CHROMADURLIN S.A.S  priya   \n",
       "3              Food - Snacks   Bangladesh        DENIMACH LTD  priya   \n",
       "4              Food - Sweets      Germany  Friedola 1888 GmbH  priya   \n",
       "\n",
       "      contact_no            nid  \n",
       "0  8801529462805  4543429591184  \n",
       "1  8801529462805  4543429591184  \n",
       "2  8801529462805  4543429591184  \n",
       "3  8801529462805  4543429591184  \n",
       "4  8801529462805  4543429591184  "
      ]
     },
     "execution_count": 16,
     "metadata": {},
     "output_type": "execute_result"
    }
   ],
   "source": [
    "df.head()"
   ]
  },
  {
   "cell_type": "code",
   "execution_count": null,
   "id": "810416be",
   "metadata": {},
   "outputs": [],
   "source": [
    "df['date'] = pd.to_datetime(df['date'])"
   ]
  },
  {
   "cell_type": "code",
   "execution_count": null,
   "id": "88225be1",
   "metadata": {},
   "outputs": [],
   "source": [
    "df[df['unit'].isnull()].sort_values('item_key')"
   ]
  },
  {
   "cell_type": "code",
   "execution_count": null,
   "id": "10dd007c",
   "metadata": {},
   "outputs": [],
   "source": [
    "item[item['item_key'] == 'I00158']"
   ]
  },
  {
   "cell_type": "code",
   "execution_count": null,
   "id": "5ae4198c",
   "metadata": {},
   "outputs": [],
   "source": [
    "df['unit'].fillna('Frito Bold Flavors Variety', inplace=True)"
   ]
  },
  {
   "cell_type": "code",
   "execution_count": null,
   "id": "50b98fed",
   "metadata": {
    "scrolled": true
   },
   "outputs": [],
   "source": [
    "df.info()"
   ]
  },
  {
   "cell_type": "markdown",
   "id": "088fc25c",
   "metadata": {},
   "source": [
    "# RFM Analysis"
   ]
  },
  {
   "cell_type": "code",
   "execution_count": null,
   "id": "e0cef5a4",
   "metadata": {},
   "outputs": [],
   "source": [
    "# create time_difference to capture part of data below\n",
    "df[\"time_difference\"] = df['date'].max() - df[\"date\"]"
   ]
  },
  {
   "cell_type": "code",
   "execution_count": null,
   "id": "29f1337e",
   "metadata": {},
   "outputs": [],
   "source": [
    "#last two years\n",
    "df[\"last_two_years\"] = df[\"time_difference\"] <= timedelta(days=2*365)"
   ]
  },
  {
   "cell_type": "code",
   "execution_count": null,
   "id": "28f58d65",
   "metadata": {},
   "outputs": [],
   "source": [
    "df_RFM = df[df['last_two_years']==True].copy()"
   ]
  },
  {
   "cell_type": "code",
   "execution_count": null,
   "id": "292b5efc",
   "metadata": {},
   "outputs": [],
   "source": [
    "df_RFM['Recency'] = (df_RFM['date'].max() - df_RFM['date']).dt.days\n"
   ]
  },
  {
   "cell_type": "code",
   "execution_count": null,
   "id": "edab167f",
   "metadata": {},
   "outputs": [],
   "source": [
    "df_RFM.head()"
   ]
  },
  {
   "cell_type": "markdown",
   "id": "570f592f",
   "metadata": {},
   "source": [
    "### Using group by for each customer we need we create three now columns as following"
   ]
  },
  {
   "cell_type": "markdown",
   "id": "674c2de1",
   "metadata": {},
   "source": [
    " -Recency: for each customer snapshot date – latest purchase difference in days\n",
    " \n",
    " -Frequency: for each customer count of how many invoices are issued for him\n",
    " \n",
    " -Monetary Value: for each customer sum of amount spent"
   ]
  },
  {
   "cell_type": "code",
   "execution_count": null,
   "id": "218365b0",
   "metadata": {},
   "outputs": [],
   "source": [
    "df_RFM = df_RFM.groupby(['coustomer_key']).agg({'Recency': np.min,\n",
    "                                           'date':pd.Series.nunique,\n",
    "                                           'total_price':np.sum}).reset_index()\n",
    "\n",
    "df_RFM"
   ]
  },
  {
   "cell_type": "code",
   "execution_count": null,
   "id": "56e7e90f",
   "metadata": {},
   "outputs": [],
   "source": [
    "#Rename columns\n",
    "df_RFM.rename(columns={'Recency':'Recency','date':'Frequency','total_price':'Monetary'},inplace= True)\n",
    "\n",
    "df_RFM"
   ]
  },
  {
   "cell_type": "markdown",
   "id": "47303bc1",
   "metadata": {},
   "source": [
    "### We have now calculated our values. But those aggregations are absolut and hard to explain as is. It is better to normalize our scores replacing those values with relative once with respect to the distribution"
   ]
  },
  {
   "cell_type": "markdown",
   "id": "de66c8c7",
   "metadata": {},
   "source": [
    "### Pandas qcut splits numeric columns into quartiles."
   ]
  },
  {
   "cell_type": "markdown",
   "id": "c2b0aeec",
   "metadata": {},
   "source": [
    "### For Recency and Frequency columns, the higher values (top quartile) are assigned with indicator 4 and lowest to 1. Higher values imply that customers have spent more money to our products or bought more often and the 1-4 score is assigned accordingly"
   ]
  },
  {
   "cell_type": "markdown",
   "id": "77e783fe",
   "metadata": {},
   "source": [
    "### The opposite logic is applied for recency as higher values mean that many days have passed since last purchase. Thus, customers with high values (top quartile) take score 1 and those with the smallest values 4."
   ]
  },
  {
   "cell_type": "code",
   "execution_count": null,
   "id": "7de17aa2",
   "metadata": {},
   "outputs": [],
   "source": [
    "# Create Scores RFM scores based on quantiles of distribution\n",
    "\n",
    "#Date from customer's last purchase.The nearest date gets 4 and the furthest date gets 1.\n",
    "df_RFM[\"recency_score\"] = pd.qcut(df_RFM['Recency'].rank(method=\"first\"),\n",
    "                                  4,\n",
    "                                  labels=[4, 3, 2, 1])\n",
    "\n",
    "# Total number of purchases.The least frequency gets 1 and the maximum frequency gets 4.\n",
    "df_RFM[\"frequency_score\"] = pd.qcut(df_RFM[\"Frequency\"].rank(method=\"first\"),\n",
    "                                    4,\n",
    "                                    labels=[1, 2, 3, 4])\n",
    "\n",
    "#Total spend by the customer.The least money gets 1, the most money gets 4.\n",
    "df_RFM[\"monetary_score\"] = pd.qcut(df_RFM[\"Monetary\"].rank(method=\"first\"),\n",
    "                                   4,\n",
    "                                   labels=[1, 2, 3, 4])\n",
    "\n",
    "df_RFM.head()"
   ]
  },
  {
   "cell_type": "markdown",
   "id": "a071a6f8",
   "metadata": {},
   "source": [
    "## Calculate total RFM score for each customer\n"
   ]
  },
  {
   "cell_type": "code",
   "execution_count": null,
   "id": "cf326d4d",
   "metadata": {},
   "outputs": [],
   "source": [
    "df_RFM[\"RFM_Segment\"] = df_RFM[\"recency_score\"].astype(str) + df_RFM[\n",
    "    \"frequency_score\"].astype(str) + df_RFM[\"monetary_score\"].astype(str)\n",
    "\n",
    "df_RFM['RFM_Score'] = df_RFM[[\n",
    "    'recency_score', 'frequency_score', 'monetary_score'\n",
    "]].sum(axis=1)\n",
    "df_RFM.head()"
   ]
  },
  {
   "cell_type": "markdown",
   "id": "b3f24d9e",
   "metadata": {},
   "source": [
    "### Split customers to segments and give indicative names (labeling appoaches may vary for this step)\n"
   ]
  },
  {
   "cell_type": "code",
   "execution_count": null,
   "id": "be12ba68",
   "metadata": {},
   "outputs": [],
   "source": [
    "segt_map = {\n",
    "    r'[3-4][3-4]4': 'VIP',\n",
    "    r'[2-3-4][1-2-3-4]4': 'Top Recent',\n",
    "    r'1[1-2-3-4]4': 'Top at Risk ',\n",
    "\n",
    "    \n",
    "    \n",
    "    r'[3-4][3-4]3': 'High Promising',\n",
    "    r'[2-3-4][1-2]3': 'High New',\n",
    "    r'2[3-4]3': 'High Loyal',\n",
    "\n",
    "    \n",
    "    \n",
    "    r'[3-4][3-4]2': 'Medium Potential',\n",
    "    r'[2-3-4][1-2]2': 'Medium New',\n",
    "    r'2[3-4]2': 'Medium Loyal',\n",
    "\n",
    "    \n",
    "    \n",
    "    r'4[1-2-3-4]1': 'Low New',\n",
    "    r'[2-3][1-2-3-4]1': 'Low Loyal',\n",
    "    \n",
    "    r'1[1-2-3-4][1-2-3]': 'Need Activation'\n",
    "}\n",
    "df_RFM['Segment_labels'] = df_RFM['RFM_Segment']\n",
    "df_RFM['Segment_labels'] = df_RFM['Segment_labels'].replace(segt_map, regex=True)\n",
    "df_RFM.head()"
   ]
  },
  {
   "cell_type": "code",
   "execution_count": null,
   "id": "26da1439",
   "metadata": {
    "scrolled": true
   },
   "outputs": [],
   "source": [
    "seg_pareto = df_RFM.groupby([\"Segment_labels\"]).agg({'Monetary': np.sum,\n",
    "                 \n",
    "                                                           \"coustomer_key\": pd.Series.nunique}).reset_index()\n",
    "\n",
    "seg_pareto"
   ]
  },
  {
   "cell_type": "code",
   "execution_count": null,
   "id": "589c8acb",
   "metadata": {
    "scrolled": true
   },
   "outputs": [],
   "source": [
    "seg_pareto[\"Monetary%\"] = seg_pareto[\"Monetary\"]/seg_pareto[\"Monetary\"].sum()\n",
    "seg_pareto = seg_pareto.sort_values(by=['Monetary%'], ascending=False)\n",
    "seg_pareto[\"CumulativePercentage\"] = (seg_pareto[\"Monetary\"].cumsum()/ \n",
    "                                      seg_pareto[\"Monetary\"].sum()*100).round(2)\n",
    "seg_pareto[\"CumulativeSum\"] = (seg_pareto[\"coustomer_key\"].cumsum()/ \n",
    "                                      seg_pareto[\"coustomer_key\"].sum()*100).round(2)\n",
    "\n",
    "seg_pareto"
   ]
  },
  {
   "cell_type": "markdown",
   "id": "884b495e",
   "metadata": {},
   "source": [
    "# Market Basket Analysis\n"
   ]
  },
  {
   "cell_type": "markdown",
   "id": "1b28597d",
   "metadata": {},
   "source": [
    "## Association Rules\n"
   ]
  },
  {
   "cell_type": "code",
   "execution_count": null,
   "id": "ad3b8c57",
   "metadata": {},
   "outputs": [],
   "source": [
    "df.info()"
   ]
  },
  {
   "cell_type": "markdown",
   "id": "c18348ae",
   "metadata": {},
   "source": [
    "## 1 - Produce an Association Rules Report which will show the below measures: \n",
    "### support itemset absolute, support itemset relative pct, confidence pct and lift"
   ]
  },
  {
   "cell_type": "code",
   "execution_count": null,
   "id": "62933eae",
   "metadata": {},
   "outputs": [],
   "source": [
    "# inputs\n",
    "supp = 5  # minimum support of an assoc. rule (default: 10)\n",
    "conf = 30  # minimum confidence of an assoc. rule (default: 80%)\n",
    "zmin = 2\n",
    "zmax = 3\n",
    "report = 'aSCl'"
   ]
  },
  {
   "cell_type": "code",
   "execution_count": null,
   "id": "0b46d0c3",
   "metadata": {},
   "outputs": [],
   "source": [
    "report_colnames = {\n",
    "    'a': 'support_itemset_absolute',\n",
    "    's': 'support_itemset_relative',\n",
    "    'S': 'support_itemset_relative_pct',\n",
    "    'b': 'support_bodyset_absolute',\n",
    "    'x': 'support_bodyset_relative',\n",
    "    'X': 'support_bodyset_relative_pct',\n",
    "    'h': 'support_headitem_absolute',\n",
    "    'y': 'support_headitem_relative',\n",
    "    'Y': 'support_headitem_relative_pct',\n",
    "    'c': 'confidence',\n",
    "    'C': 'confidence_pct',\n",
    "    'l': 'lift',\n",
    "    'L': 'lift_pct',\n",
    "    'e': 'evaluation',\n",
    "    'E': 'evaluation_pct',\n",
    "    'Q': 'support of the empty set (total number of transactions)'\n",
    "    }"
   ]
  },
  {
   "cell_type": "code",
   "execution_count": null,
   "id": "368d8ab5",
   "metadata": {},
   "outputs": [],
   "source": [
    "cust_prod=df.groupby('coustomer_key')['item_name'].apply(list)\n",
    "cust_prod"
   ]
  },
  {
   "cell_type": "code",
   "execution_count": null,
   "id": "0cb8bda0",
   "metadata": {},
   "outputs": [],
   "source": [
    "# Create list of lists to pass it into PyFim\n",
    "\n",
    "cust_prod_list=cust_prod.to_list()\n",
    "cust_prod_list"
   ]
  },
  {
   "cell_type": "code",
   "execution_count": null,
   "id": "9719566a",
   "metadata": {},
   "outputs": [],
   "source": [
    "# Run apriori algorithm to creeate associations\n",
    "apriori = arules(cust_prod_list, supp=supp, conf=conf, report=report,eval='lift', zmin = 2,zmax = 2)"
   ]
  },
  {
   "cell_type": "code",
   "execution_count": null,
   "id": "c56d8cc0",
   "metadata": {},
   "outputs": [],
   "source": [
    "#Uncomment and run in case you want to see parameters of association rules\n",
    "#??arules \n",
    "\n",
    "\n",
    "#Creat dataframe wiht columns based on the report variables and sorted based on the \"Associations_Sorted_based_on\"\n",
    "colnames = ['Cons_Product', 'antecedent'] + [report_colnames.get(k, k) for k in list(report)]\n",
    "df_rules = pd.DataFrame(apriori, columns=colnames)\n",
    "df_rules = df_rules.sort_values(report_colnames[\"a\"], ascending=False)\n",
    "\n",
    "#Change order of columns antecedent and consequent\n",
    "df_rules = df_rules[['antecedent', 'Cons_Product']+ [report_colnames.get(k, k) for k in list(report)]]\n",
    "\n",
    "\n",
    "#Print the numbers of rules created\n",
    "print(df_rules.shape)\n",
    "\n",
    "#Print top 10 and last 10 rules (the last 10 will be shown)\n",
    "df_rules"
   ]
  },
  {
   "cell_type": "markdown",
   "id": "9a3fd29c",
   "metadata": {},
   "source": [
    "## 2 - Find the Top5 Association in terms of Support Absolute, confidence and lift and provide an interpretation of your results for these product relations"
   ]
  },
  {
   "cell_type": "code",
   "execution_count": null,
   "id": "de6852c3",
   "metadata": {},
   "outputs": [],
   "source": [
    "df_rules = df_rules.sort_values(by='lift', ascending=False)\n",
    "df_rules.head(30)"
   ]
  },
  {
   "cell_type": "code",
   "execution_count": null,
   "id": "8d0f990e",
   "metadata": {},
   "outputs": [],
   "source": [
    "df_rules = df_rules.sort_values(by='confidence_pct', ascending=False)\n",
    "df_rules.head(30)"
   ]
  },
  {
   "cell_type": "markdown",
   "id": "0a30c001",
   "metadata": {},
   "source": [
    "## 3 - Is there product cannibalization between products? If yes, provide for which products. If not, support your statement."
   ]
  },
  {
   "cell_type": "code",
   "execution_count": null,
   "id": "bc37155a",
   "metadata": {},
   "outputs": [],
   "source": [
    "df_rules = df_rules.sort_values(by='lift', ascending=True)\n",
    "df_rules.head(50)"
   ]
  }
 ],
 "metadata": {
  "kernelspec": {
   "display_name": "Python 3 (ipykernel)",
   "language": "python",
   "name": "python3"
  },
  "language_info": {
   "codemirror_mode": {
    "name": "ipython",
    "version": 3
   },
   "file_extension": ".py",
   "mimetype": "text/x-python",
   "name": "python",
   "nbconvert_exporter": "python",
   "pygments_lexer": "ipython3",
   "version": "3.9.17"
  }
 },
 "nbformat": 4,
 "nbformat_minor": 5
}
