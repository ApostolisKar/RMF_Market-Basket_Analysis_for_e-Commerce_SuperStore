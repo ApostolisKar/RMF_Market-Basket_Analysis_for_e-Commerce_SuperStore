{
 "cells": [
  {
   "cell_type": "code",
   "execution_count": 54,
   "id": "2c9e35e2",
   "metadata": {},
   "outputs": [],
   "source": [
    "import json\n",
    "import pandas as pd\n",
    "pd.set_option('display.max_columns', None)\n",
    "import numpy as np\n",
    "import matplotlib.pyplot as plt\n",
    "from datetime import datetime\n",
    "import seaborn as sns"
   ]
  },
  {
   "cell_type": "code",
   "execution_count": 33,
   "id": "d0b26ff9",
   "metadata": {},
   "outputs": [],
   "source": [
    "fact_table = pd.read_csv('fact_table.csv')"
   ]
  },
  {
   "cell_type": "code",
   "execution_count": null,
   "id": "ac7e34a0",
   "metadata": {},
   "outputs": [],
   "source": [
    "fact_table.info()"
   ]
  },
  {
   "cell_type": "code",
   "execution_count": null,
   "id": "fc78f760",
   "metadata": {},
   "outputs": [],
   "source": [
    "fact_table.head()"
   ]
  },
  {
   "cell_type": "code",
   "execution_count": null,
   "id": "fd0af37f",
   "metadata": {},
   "outputs": [],
   "source": []
  },
  {
   "cell_type": "code",
   "execution_count": 18,
   "id": "b5251acb",
   "metadata": {},
   "outputs": [],
   "source": [
    "trans = pd.read_csv('Trans_dim.csv')"
   ]
  },
  {
   "cell_type": "code",
   "execution_count": null,
   "id": "d08525d9",
   "metadata": {},
   "outputs": [],
   "source": [
    "trans.head()"
   ]
  },
  {
   "cell_type": "code",
   "execution_count": null,
   "id": "77a61560",
   "metadata": {},
   "outputs": [],
   "source": []
  },
  {
   "cell_type": "code",
   "execution_count": 20,
   "id": "18565669",
   "metadata": {},
   "outputs": [],
   "source": [
    "time_dim = pd.read_csv('time_dim.csv')"
   ]
  },
  {
   "cell_type": "code",
   "execution_count": null,
   "id": "75a8b39e",
   "metadata": {},
   "outputs": [],
   "source": [
    "time_dim.head()"
   ]
  },
  {
   "cell_type": "code",
   "execution_count": null,
   "id": "bafb897c",
   "metadata": {},
   "outputs": [],
   "source": []
  },
  {
   "cell_type": "code",
   "execution_count": 24,
   "id": "b3f4f1d3",
   "metadata": {},
   "outputs": [],
   "source": [
    "store = pd.read_csv('store_dim.csv')"
   ]
  },
  {
   "cell_type": "code",
   "execution_count": null,
   "id": "b9c38c80",
   "metadata": {},
   "outputs": [],
   "source": [
    "store.head()"
   ]
  },
  {
   "cell_type": "code",
   "execution_count": null,
   "id": "7f421a5d",
   "metadata": {},
   "outputs": [],
   "source": []
  },
  {
   "cell_type": "code",
   "execution_count": 28,
   "id": "b4164ff9",
   "metadata": {},
   "outputs": [],
   "source": [
    "item = pd.read_csv('item_dim.csv', encoding='latin-1')"
   ]
  },
  {
   "cell_type": "code",
   "execution_count": null,
   "id": "cf8dd165",
   "metadata": {},
   "outputs": [],
   "source": [
    "item.head()"
   ]
  },
  {
   "cell_type": "code",
   "execution_count": null,
   "id": "5cf3b409",
   "metadata": {},
   "outputs": [],
   "source": [
    "item[item['item_key'] == 'I00158']"
   ]
  },
  {
   "cell_type": "code",
   "execution_count": 31,
   "id": "0f9d3997",
   "metadata": {},
   "outputs": [],
   "source": [
    "customer = pd.read_csv('customer_dim.csv', encoding='latin-1')"
   ]
  },
  {
   "cell_type": "code",
   "execution_count": null,
   "id": "b7b1f4ec",
   "metadata": {},
   "outputs": [],
   "source": [
    "customer.head()"
   ]
  },
  {
   "cell_type": "code",
   "execution_count": null,
   "id": "444cf380",
   "metadata": {},
   "outputs": [],
   "source": []
  },
  {
   "cell_type": "code",
   "execution_count": null,
   "id": "93a1ab93",
   "metadata": {},
   "outputs": [],
   "source": [
    "# merge tables"
   ]
  },
  {
   "cell_type": "code",
   "execution_count": 46,
   "id": "32725505",
   "metadata": {},
   "outputs": [],
   "source": [
    "df = pd.merge(fact_table, time_dim, how='inner')"
   ]
  },
  {
   "cell_type": "code",
   "execution_count": 47,
   "id": "c8b27e72",
   "metadata": {},
   "outputs": [],
   "source": [
    "df = pd.merge(df, trans, how='inner')"
   ]
  },
  {
   "cell_type": "code",
   "execution_count": 48,
   "id": "2ba9b56a",
   "metadata": {},
   "outputs": [],
   "source": [
    "df = pd.merge(df, store, how='inner')"
   ]
  },
  {
   "cell_type": "code",
   "execution_count": 49,
   "id": "2bfaf1e2",
   "metadata": {},
   "outputs": [],
   "source": [
    "df = pd.merge(df, item, how='inner')"
   ]
  },
  {
   "cell_type": "code",
   "execution_count": 50,
   "id": "187130f5",
   "metadata": {},
   "outputs": [],
   "source": [
    "df = pd.merge(df, customer, how='inner')"
   ]
  },
  {
   "cell_type": "code",
   "execution_count": null,
   "id": "e10eb330",
   "metadata": {},
   "outputs": [],
   "source": [
    "df.info()"
   ]
  },
  {
   "cell_type": "code",
   "execution_count": null,
   "id": "8ba07a21",
   "metadata": {},
   "outputs": [],
   "source": [
    "df.head()"
   ]
  },
  {
   "cell_type": "code",
   "execution_count": 57,
   "id": "e539c90c",
   "metadata": {},
   "outputs": [],
   "source": [
    "df.drop_duplicates()"
   ]
  },
  {
   "cell_type": "code",
   "execution_count": 69,
   "id": "49186d8c",
   "metadata": {},
   "outputs": [],
   "source": [
    "df['date'] = pd.to_datetime(df['date'])"
   ]
  },
  {
   "cell_type": "code",
   "execution_count": null,
   "id": "6a971dfd",
   "metadata": {},
   "outputs": [],
   "source": []
  },
  {
   "cell_type": "code",
   "execution_count": null,
   "id": "58827eb0",
   "metadata": {},
   "outputs": [],
   "source": [
    "# check for nulls"
   ]
  },
  {
   "cell_type": "code",
   "execution_count": null,
   "id": "82186311",
   "metadata": {},
   "outputs": [],
   "source": [
    "# Unit column"
   ]
  },
  {
   "cell_type": "code",
   "execution_count": null,
   "id": "52dafdc7",
   "metadata": {},
   "outputs": [],
   "source": [
    "df[df['unit'].isnull()].sort_values('item_key')"
   ]
  },
  {
   "cell_type": "code",
   "execution_count": null,
   "id": "14e66ed7",
   "metadata": {},
   "outputs": [],
   "source": [
    "item[item['item_key'] == 'I00158']"
   ]
  },
  {
   "cell_type": "code",
   "execution_count": 71,
   "id": "8c66e118",
   "metadata": {},
   "outputs": [],
   "source": [
    "df['unit'].fillna('Frito Bold Flavors Variety', inplace=True)"
   ]
  },
  {
   "cell_type": "code",
   "execution_count": null,
   "id": "e9a5bd4e",
   "metadata": {},
   "outputs": [],
   "source": [
    "df.info()"
   ]
  },
  {
   "cell_type": "code",
   "execution_count": null,
   "id": "4c1572ad",
   "metadata": {},
   "outputs": [],
   "source": []
  },
  {
   "cell_type": "code",
   "execution_count": 79,
   "id": "c226ad19",
   "metadata": {},
   "outputs": [
    {
     "data": {
      "text/html": [
       "<div>\n",
       "<style scoped>\n",
       "    .dataframe tbody tr th:only-of-type {\n",
       "        vertical-align: middle;\n",
       "    }\n",
       "\n",
       "    .dataframe tbody tr th {\n",
       "        vertical-align: top;\n",
       "    }\n",
       "\n",
       "    .dataframe thead th {\n",
       "        text-align: right;\n",
       "    }\n",
       "</style>\n",
       "<table border=\"1\" class=\"dataframe\">\n",
       "  <thead>\n",
       "    <tr style=\"text-align: right;\">\n",
       "      <th></th>\n",
       "      <th>payment_key</th>\n",
       "      <th>coustomer_key</th>\n",
       "      <th>time_key</th>\n",
       "      <th>item_key</th>\n",
       "      <th>store_key</th>\n",
       "      <th>quantity</th>\n",
       "      <th>unit</th>\n",
       "      <th>unit_price</th>\n",
       "      <th>total_price</th>\n",
       "      <th>date</th>\n",
       "      <th>hour</th>\n",
       "      <th>day</th>\n",
       "      <th>week</th>\n",
       "      <th>month</th>\n",
       "      <th>quarter</th>\n",
       "      <th>year</th>\n",
       "      <th>trans_type</th>\n",
       "      <th>bank_name</th>\n",
       "      <th>division</th>\n",
       "      <th>district</th>\n",
       "      <th>upazila</th>\n",
       "      <th>item_name</th>\n",
       "      <th>desc</th>\n",
       "      <th>man_country</th>\n",
       "      <th>supplier</th>\n",
       "      <th>name</th>\n",
       "      <th>contact_no</th>\n",
       "      <th>nid</th>\n",
       "    </tr>\n",
       "  </thead>\n",
       "  <tbody>\n",
       "    <tr>\n",
       "      <th>0</th>\n",
       "      <td>P026</td>\n",
       "      <td>C004510</td>\n",
       "      <td>T049189</td>\n",
       "      <td>I00177</td>\n",
       "      <td>S00307</td>\n",
       "      <td>1</td>\n",
       "      <td>ct</td>\n",
       "      <td>35.0</td>\n",
       "      <td>35.0</td>\n",
       "      <td>2016-04-26 17:13:00</td>\n",
       "      <td>17</td>\n",
       "      <td>26</td>\n",
       "      <td>4th Week</td>\n",
       "      <td>4</td>\n",
       "      <td>Q2</td>\n",
       "      <td>2016</td>\n",
       "      <td>card</td>\n",
       "      <td>Premier Bank Limited</td>\n",
       "      <td>DHAKA</td>\n",
       "      <td>JAMALPUR</td>\n",
       "      <td>ISLAMPUR</td>\n",
       "      <td>M&amp;M Peanut Candy 1.7 oz</td>\n",
       "      <td>Food - Chocolate</td>\n",
       "      <td>Netherlands</td>\n",
       "      <td>Bolsius Boxmeer</td>\n",
       "      <td>priya</td>\n",
       "      <td>8801529462805</td>\n",
       "      <td>4543429591184</td>\n",
       "    </tr>\n",
       "    <tr>\n",
       "      <th>1</th>\n",
       "      <td>P001</td>\n",
       "      <td>C004510</td>\n",
       "      <td>T082988</td>\n",
       "      <td>I00062</td>\n",
       "      <td>S00428</td>\n",
       "      <td>11</td>\n",
       "      <td>cans</td>\n",
       "      <td>37.0</td>\n",
       "      <td>407.0</td>\n",
       "      <td>2018-11-05 07:18:00</td>\n",
       "      <td>7</td>\n",
       "      <td>11</td>\n",
       "      <td>2nd Week</td>\n",
       "      <td>5</td>\n",
       "      <td>Q2</td>\n",
       "      <td>2018</td>\n",
       "      <td>cash</td>\n",
       "      <td>None</td>\n",
       "      <td>CHITTAGONG</td>\n",
       "      <td>CHITTAGONG</td>\n",
       "      <td>ANOWARA</td>\n",
       "      <td>Red Bull 16oz</td>\n",
       "      <td>Beverage - Energy/Protein</td>\n",
       "      <td>Bangladesh</td>\n",
       "      <td>DENIMACH LTD</td>\n",
       "      <td>priya</td>\n",
       "      <td>8801529462805</td>\n",
       "      <td>4543429591184</td>\n",
       "    </tr>\n",
       "    <tr>\n",
       "      <th>2</th>\n",
       "      <td>P018</td>\n",
       "      <td>C004510</td>\n",
       "      <td>T074754</td>\n",
       "      <td>I00196</td>\n",
       "      <td>S00378</td>\n",
       "      <td>8</td>\n",
       "      <td>ct</td>\n",
       "      <td>16.0</td>\n",
       "      <td>128.0</td>\n",
       "      <td>2015-11-29 10:19:00</td>\n",
       "      <td>10</td>\n",
       "      <td>29</td>\n",
       "      <td>4th Week</td>\n",
       "      <td>11</td>\n",
       "      <td>Q4</td>\n",
       "      <td>2015</td>\n",
       "      <td>card</td>\n",
       "      <td>Mutual Trust Bank Limited</td>\n",
       "      <td>DHAKA</td>\n",
       "      <td>RAJBARI</td>\n",
       "      <td>KALUKHALI</td>\n",
       "      <td>Fiber One 90 Calorie Fudge Brownies</td>\n",
       "      <td>Food - Healthy</td>\n",
       "      <td>poland</td>\n",
       "      <td>CHROMADURLIN S.A.S</td>\n",
       "      <td>priya</td>\n",
       "      <td>8801529462805</td>\n",
       "      <td>4543429591184</td>\n",
       "    </tr>\n",
       "    <tr>\n",
       "      <th>3</th>\n",
       "      <td>P011</td>\n",
       "      <td>C004510</td>\n",
       "      <td>T06276</td>\n",
       "      <td>I00223</td>\n",
       "      <td>S00367</td>\n",
       "      <td>8</td>\n",
       "      <td>ct</td>\n",
       "      <td>13.5</td>\n",
       "      <td>108.0</td>\n",
       "      <td>2016-11-10 23:06:00</td>\n",
       "      <td>23</td>\n",
       "      <td>11</td>\n",
       "      <td>2nd Week</td>\n",
       "      <td>10</td>\n",
       "      <td>Q4</td>\n",
       "      <td>2016</td>\n",
       "      <td>card</td>\n",
       "      <td>Eastern Bank Limited</td>\n",
       "      <td>DHAKA</td>\n",
       "      <td>NETRAKONA</td>\n",
       "      <td>BARHATTA</td>\n",
       "      <td>Lance Variety Cracker Packs</td>\n",
       "      <td>Food - Snacks</td>\n",
       "      <td>Bangladesh</td>\n",
       "      <td>DENIMACH LTD</td>\n",
       "      <td>priya</td>\n",
       "      <td>8801529462805</td>\n",
       "      <td>4543429591184</td>\n",
       "    </tr>\n",
       "    <tr>\n",
       "      <th>4</th>\n",
       "      <td>P034</td>\n",
       "      <td>C004510</td>\n",
       "      <td>T08402</td>\n",
       "      <td>I00229</td>\n",
       "      <td>S00535</td>\n",
       "      <td>9</td>\n",
       "      <td>ct</td>\n",
       "      <td>13.0</td>\n",
       "      <td>117.0</td>\n",
       "      <td>2017-10-17 23:17:00</td>\n",
       "      <td>23</td>\n",
       "      <td>17</td>\n",
       "      <td>3rd Week</td>\n",
       "      <td>10</td>\n",
       "      <td>Q4</td>\n",
       "      <td>2017</td>\n",
       "      <td>card</td>\n",
       "      <td>United Commercial Bank Ltd</td>\n",
       "      <td>BARISAL</td>\n",
       "      <td>BHOLA</td>\n",
       "      <td>LALMOHAN</td>\n",
       "      <td>Kellogg's Cereals Assortment Pack</td>\n",
       "      <td>Food - Sweets</td>\n",
       "      <td>Germany</td>\n",
       "      <td>Friedola 1888 GmbH</td>\n",
       "      <td>priya</td>\n",
       "      <td>8801529462805</td>\n",
       "      <td>4543429591184</td>\n",
       "    </tr>\n",
       "  </tbody>\n",
       "</table>\n",
       "</div>"
      ],
      "text/plain": [
       "  payment_key coustomer_key time_key item_key store_key  quantity  unit  \\\n",
       "0        P026       C004510  T049189   I00177    S00307         1    ct   \n",
       "1        P001       C004510  T082988   I00062    S00428        11  cans   \n",
       "2        P018       C004510  T074754   I00196    S00378         8    ct   \n",
       "3        P011       C004510   T06276   I00223    S00367         8    ct   \n",
       "4        P034       C004510   T08402   I00229    S00535         9    ct   \n",
       "\n",
       "   unit_price  total_price                date  hour  day      week  month  \\\n",
       "0        35.0         35.0 2016-04-26 17:13:00    17   26  4th Week      4   \n",
       "1        37.0        407.0 2018-11-05 07:18:00     7   11  2nd Week      5   \n",
       "2        16.0        128.0 2015-11-29 10:19:00    10   29  4th Week     11   \n",
       "3        13.5        108.0 2016-11-10 23:06:00    23   11  2nd Week     10   \n",
       "4        13.0        117.0 2017-10-17 23:17:00    23   17  3rd Week     10   \n",
       "\n",
       "  quarter  year trans_type                   bank_name    division  \\\n",
       "0      Q2  2016       card        Premier Bank Limited       DHAKA   \n",
       "1      Q2  2018       cash                        None  CHITTAGONG   \n",
       "2      Q4  2015       card   Mutual Trust Bank Limited       DHAKA   \n",
       "3      Q4  2016       card        Eastern Bank Limited       DHAKA   \n",
       "4      Q4  2017       card  United Commercial Bank Ltd     BARISAL   \n",
       "\n",
       "     district    upazila                            item_name  \\\n",
       "0    JAMALPUR   ISLAMPUR              M&M Peanut Candy 1.7 oz   \n",
       "1  CHITTAGONG    ANOWARA                        Red Bull 16oz   \n",
       "2     RAJBARI  KALUKHALI  Fiber One 90 Calorie Fudge Brownies   \n",
       "3   NETRAKONA   BARHATTA         Lance Variety Cracker Packs    \n",
       "4       BHOLA   LALMOHAN   Kellogg's Cereals Assortment Pack    \n",
       "\n",
       "                        desc  man_country            supplier   name  \\\n",
       "0           Food - Chocolate  Netherlands     Bolsius Boxmeer  priya   \n",
       "1  Beverage - Energy/Protein   Bangladesh        DENIMACH LTD  priya   \n",
       "2             Food - Healthy       poland  CHROMADURLIN S.A.S  priya   \n",
       "3              Food - Snacks   Bangladesh        DENIMACH LTD  priya   \n",
       "4              Food - Sweets      Germany  Friedola 1888 GmbH  priya   \n",
       "\n",
       "      contact_no            nid  \n",
       "0  8801529462805  4543429591184  \n",
       "1  8801529462805  4543429591184  \n",
       "2  8801529462805  4543429591184  \n",
       "3  8801529462805  4543429591184  \n",
       "4  8801529462805  4543429591184  "
      ]
     },
     "execution_count": 79,
     "metadata": {},
     "output_type": "execute_result"
    }
   ],
   "source": [
    "df.head()"
   ]
  },
  {
   "cell_type": "code",
   "execution_count": null,
   "id": "daca34b4",
   "metadata": {},
   "outputs": [],
   "source": []
  },
  {
   "cell_type": "code",
   "execution_count": null,
   "id": "cbb09d2e",
   "metadata": {},
   "outputs": [],
   "source": []
  },
  {
   "cell_type": "code",
   "execution_count": null,
   "id": "8d05de83",
   "metadata": {},
   "outputs": [],
   "source": []
  },
  {
   "cell_type": "code",
   "execution_count": null,
   "id": "31bbbd47",
   "metadata": {},
   "outputs": [],
   "source": []
  },
  {
   "cell_type": "code",
   "execution_count": null,
   "id": "71eddeb0",
   "metadata": {},
   "outputs": [],
   "source": []
  },
  {
   "cell_type": "code",
   "execution_count": null,
   "id": "ed07bf8a",
   "metadata": {},
   "outputs": [],
   "source": []
  },
  {
   "cell_type": "code",
   "execution_count": null,
   "id": "2c344fa8",
   "metadata": {},
   "outputs": [],
   "source": []
  },
  {
   "cell_type": "code",
   "execution_count": null,
   "id": "5511d5bd",
   "metadata": {},
   "outputs": [],
   "source": []
  }
 ],
 "metadata": {
  "kernelspec": {
   "display_name": "Python 3 (ipykernel)",
   "language": "python",
   "name": "python3"
  },
  "language_info": {
   "codemirror_mode": {
    "name": "ipython",
    "version": 3
   },
   "file_extension": ".py",
   "mimetype": "text/x-python",
   "name": "python",
   "nbconvert_exporter": "python",
   "pygments_lexer": "ipython3",
   "version": "3.9.17"
  }
 },
 "nbformat": 4,
 "nbformat_minor": 5
}
